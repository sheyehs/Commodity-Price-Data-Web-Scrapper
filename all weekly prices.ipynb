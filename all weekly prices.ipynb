{
 "cells": [
  {
   "cell_type": "code",
   "execution_count": 1,
   "id": "12f429d3",
   "metadata": {},
   "outputs": [],
   "source": [
    "# 是mofcom_agricultural products_weekly price的增强版：\n",
    "# 外加一层循环以爬取左边侧栏不同的周度价格数据集\n",
    "# 将模块功能定义为函数，以使主循环模块简洁\n",
    "# 并且最后会按照数据集的中文名称分别导出并命名csv文件，当然也会标记日期\n",
    "\n",
    "# 提醒1：请在网路条件较好的情况下运行，若爬取过程中出现StaleElementReferenceException异常，增加sleep()等待的秒数或许能解决问题\n",
    "\n",
    "# 提醒2：在最后主循环中添加判断条件，可只爬取感兴趣的数据集，比如爬取农副产品-周度数据就太耗时了\n",
    "\n",
    "from selenium import webdriver\n",
    "from selenium.webdriver.common.keys import Keys\n",
    "from selenium.webdriver.common.by import By\n",
    "from time import sleep\n",
    "\n",
    "import pandas as pd \n",
    "import numpy as np\n",
    "import time\n",
    "import re"
   ]
  },
  {
   "cell_type": "code",
   "execution_count": 2,
   "id": "5fe4c589",
   "metadata": {},
   "outputs": [],
   "source": [
    "# 打开商务部数据中心网站\n",
    "driver = webdriver.Chrome()\n",
    "driver.implicitly_wait(10)\n",
    "url = \"https://cif.mofcom.gov.cn/cif/html/dataCenter/index.html?jgnfcprd\"\n",
    "driver.get(url)"
   ]
  },
  {
   "cell_type": "code",
   "execution_count": 3,
   "id": "86f89bd1",
   "metadata": {},
   "outputs": [],
   "source": [
    "# 用一个字典来收集左边侧栏数据集的id与中文名称，\n",
    "# 本例所要爬取的数据集是：农副产品-周度数据；农产品-...；生产资料-...\n",
    "# 观察发现，左边侧栏所有数据集的class name都是menu_li，要爬取的数据集的id开头都是li_jg\n",
    "# 但注意会跟“农副产品-日度数据”的id开头相混淆，所以要剔除\n",
    "# 日度数据也可以模仿本代码的内侧循环爬取，或者最好参考mofcom_agricultural products_weekly price.ipynp\n",
    "# 其主要区别在于日历栏的位置和类型栏id\n",
    "datasets_info = {}\n",
    "datasets = driver.find_elements(By.CLASS_NAME, 'menu_li')\n",
    "for ds in datasets:\n",
    "    ds_id = ds.get_attribute('id')\n",
    "    # 选择要爬取的数据集，并排除“农副产品-日度数据”\n",
    "    if ds_id.startswith('li_jg') and ds_id != 'li_jgnfcprd':\n",
    "        datasets_info.update({ds_id: ds.text})"
   ]
  },
  {
   "cell_type": "code",
   "execution_count": 4,
   "id": "aa95662e",
   "metadata": {},
   "outputs": [
    {
     "data": {
      "text/plain": [
       "{'li_jgnfcpzd': '周度数据',\n",
       " 'li_jgncpgnqh': '国内期货价格',\n",
       " 'li_jgncpgjxh': '国际现货价格',\n",
       " 'li_jgncpgjqh': '国际期货价格',\n",
       " 'li_jgsczlzdjc': '周度监测数据',\n",
       " 'li_jgsczlgnqh': '国内期货价格',\n",
       " 'li_jgsczlgjxh': '国际现货价格',\n",
       " 'li_jgsczlgjqh': '国际期货价格'}"
      ]
     },
     "execution_count": 4,
     "metadata": {},
     "output_type": "execute_result"
    }
   ],
   "source": [
    "# 检查用\n",
    "datasets_info"
   ]
  },
  {
   "cell_type": "code",
   "execution_count": 5,
   "id": "caaacdf1",
   "metadata": {},
   "outputs": [],
   "source": [
    "# 设置到最早的开始年份\n",
    "# 注意，每刷新一个数据集就要重新调整一次日历\n",
    "def set_start_year():\n",
    "    # 找到日历栏\n",
    "    driver.find_element(By.ID, 'nr5_start_date').click()\n",
    "    # 这里有个iframe，要更换工作目录\n",
    "    driver.switch_to.frame(driver.find_element(By.XPATH, '/html/body/div[6]/iframe'))\n",
    "    sleep(1)\n",
    "    start_year = driver.find_element(By.XPATH, '/html/body/div/div[1]/div[4]/input')\n",
    "    start_year.clear()\n",
    "    start_year.send_keys(Keys.ENTER)\n",
    "    # 完成后退回到主工作目录\n",
    "    driver.switch_to.default_content()\n",
    "    sleep(1)"
   ]
  },
  {
   "cell_type": "code",
   "execution_count": 6,
   "id": "0f13afb0",
   "metadata": {},
   "outputs": [],
   "source": [
    "# 收集该数据集所有商品的id、品种（普通黑色字体）、类型（红色字体）。页面上部的类型栏区域\n",
    "def collect_commodities_info(commodities_info):\n",
    "    # 这些数据集的类型栏的id恰好一致\n",
    "    category = driver.find_element(By.ID, 'week_category')\n",
    "    # 以下之所以这样走依据的是网页结构\n",
    "    categories = category.find_elements(By.CLASS_NAME, 'yqpzl')\n",
    "    for cat in categories:\n",
    "        category_name = cat.find_element(By.CLASS_NAME, 'pzys.yqfont6').text\n",
    "        commodities = cat.find_element(By.CLASS_NAME, 'ygepz').find_elements(By.TAG_NAME, 'div')\n",
    "        for com in commodities:\n",
    "            commodity_name = com.text\n",
    "            commodity_id = com.get_attribute('id')\n",
    "            commodities_info.update({commodity_id : [commodity_name, category_name]})\n",
    "    \n",
    "    # 检查用\n",
    "    print(commodities_info)"
   ]
  },
  {
   "cell_type": "code",
   "execution_count": 7,
   "id": "ae746e1d",
   "metadata": {},
   "outputs": [],
   "source": [
    "# 爬取表格内数据。页面下部\n",
    "def scrape_data(df_list, commodities_info):\n",
    "    for key, value in commodities_info.items():\n",
    "        com_id = key\n",
    "        com_name = value[0]\n",
    "        com_cat = value[1]\n",
    "    \n",
    "        driver.find_element(By.ID, com_id).click()\n",
    "        sleep(1)\n",
    "\n",
    "        # 注意：单位随商品而异，尤其是某些数据集（如期货），所以用一个简单的方法来提取单位\n",
    "        head_unit = driver.find_element(By.XPATH, '//*[@id=\"nr5_table_head\"]/tbody/tr/td[2]')\n",
    "        unit = head_unit.text[3:-1]\n",
    "\n",
    "        table = driver.find_element(By.ID, 'nr5_table')\n",
    "        table_content = table.find_elements(By.TAG_NAME, 'tr')\n",
    "        temp_list = []\n",
    "        for tr in table_content:\n",
    "            temp_list.append(tr.text.split(' '))  \n",
    "            temp_df = pd.DataFrame(temp_list, columns=['时间','价格','环比增量','环比'])\n",
    "            temp_df['单位'] = unit\n",
    "            temp_df['品种'] = com_name\n",
    "            # 大部分数据集没有一级分类（即只有一个红字按钮且就叫“品种”），就不用多添一列类型了\n",
    "            if com_cat != '品种':\n",
    "                temp_df['类型'] = com_cat\n",
    "\n",
    "        df_list.append(temp_df)"
   ]
  },
  {
   "cell_type": "code",
   "execution_count": 8,
   "id": "14d25b07",
   "metadata": {},
   "outputs": [],
   "source": [
    "# 将数据输出为csv格式，并自动添加上数据集的中文名\n",
    "def export_data(df_list, dataset_id, dataset_name):\n",
    "    # 拼接后列顺序未调整，因为列名比较多样，以后分析数据时用pandas的reindex调整即可\n",
    "    data = pd.concat(df_list, ignore_index=True)\n",
    "    # 检查用\n",
    "    print(data)\n",
    "\n",
    "    date = time.strftime(\"%Y-%m-%d\", time.localtime()) \n",
    "    prefix = ''\n",
    "    # 观察上文打印出的datasets_info\n",
    "    # jg = 价格\n",
    "    if dataset_id.startswith('li_jgnfcp'):\n",
    "        prefix = '农副产品'\n",
    "    elif dataset_id.startswith('li_jgncp'):\n",
    "        prefix = '农产品'\n",
    "    elif dataset_id.startswith('li_jgsczl'):\n",
    "        prefix = '生产资料'\n",
    "        \n",
    "    data.to_csv('data/'+date+'_'+prefix+'_'+dataset_name, index=False)"
   ]
  },
  {
   "cell_type": "code",
   "execution_count": 12,
   "id": "005feb1c",
   "metadata": {
    "scrolled": false
   },
   "outputs": [
    {
     "name": "stdout",
     "output_type": "stream",
     "text": [
      "{'jgsczlgjqh_224739': ['原油', '品种'], 'jgsczlgjqh_224740': ['燃料油', '品种'], 'jgsczlgjqh_224741': ['轻柴油', '品种'], 'jgsczlgjqh_224743': ['棉花', '品种'], 'jgsczlgjqh_224744': ['天然气', '品种'], 'jgsczlgjqh_224745': ['木材', '品种'], 'jgsczlgjqh_672635': ['天然橡胶(3号)', '品种']}\n",
      "              时间     价格   环比增量      环比     单位        品种\n",
      "0     2021-11-26  76.03  -2.95  -3.74%   美元/桶        原油\n",
      "1     2021-11-19  78.98  -2.97  -3.62%   美元/桶        原油\n",
      "2     2021-11-12  81.95   0.18   0.22%   美元/桶        原油\n",
      "3     2021-11-05  81.77  -1.71  -2.05%   美元/桶        原油\n",
      "4     2021-10-29  83.48   0.47   0.57%   美元/桶        原油\n",
      "...          ...    ...    ...     ...    ...       ...\n",
      "5784  2010-06-11  339.6  -24.4   -6.7%  美分/千克  天然橡胶(3号)\n",
      "5785  2010-06-04    364    -21  -5.45%  美分/千克  天然橡胶(3号)\n",
      "5786  2010-05-28    385   15.8   4.28%  美分/千克  天然橡胶(3号)\n",
      "5787  2010-05-21  369.2    9.9   2.76%  美分/千克  天然橡胶(3号)\n",
      "5788  2010-05-14  359.3   None    None  美分/千克  天然橡胶(3号)\n",
      "\n",
      "[5789 rows x 6 columns]\n"
     ]
    }
   ],
   "source": [
    "# 主循环\n",
    "for dataset_id, dataset_name in datasets_info.items():\n",
    "    \n",
    "    # 此处可以添加对dataset_id的判断，只爬取感兴趣的数据集\n",
    "    # 尤其当网络不稳定而中断时，增加判断后，继续运行本模块就容易接着爬取\n",
    "    #if dataset_id != 'li_jgsczlgjqh':\n",
    "    #    continue\n",
    "    \n",
    "    driver.find_element(By.ID, dataset_id).click()\n",
    "    sleep(1)\n",
    "    \n",
    "    set_start_year()\n",
    "    \n",
    "    commodities_info = {}\n",
    "    collect_commodities_info(commodities_info)\n",
    "    \n",
    "    df_list = []\n",
    "    scrape_data(df_list, commodities_info)\n",
    "    \n",
    "    export_data(df_list, dataset_id, dataset_name)"
   ]
  },
  {
   "cell_type": "code",
   "execution_count": null,
   "id": "4b06ce92",
   "metadata": {},
   "outputs": [],
   "source": []
  }
 ],
 "metadata": {
  "kernelspec": {
   "display_name": "Python 3",
   "language": "python",
   "name": "python3"
  },
  "language_info": {
   "codemirror_mode": {
    "name": "ipython",
    "version": 3
   },
   "file_extension": ".py",
   "mimetype": "text/x-python",
   "name": "python",
   "nbconvert_exporter": "python",
   "pygments_lexer": "ipython3",
   "version": "3.8.8"
  }
 },
 "nbformat": 4,
 "nbformat_minor": 5
}
