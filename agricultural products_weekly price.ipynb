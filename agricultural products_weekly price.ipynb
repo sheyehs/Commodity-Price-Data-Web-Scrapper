{
 "cells": [
  {
   "cell_type": "code",
   "execution_count": null,
   "id": "2820dbf1",
   "metadata": {},
   "outputs": [],
   "source": [
    "# 爬取商务部商品市场周度数据: https://cif.mofcom.gov.cn/cif/html/dataCenter/index.html?jgnfcprd\n",
    "# 因为该网页点击按钮后虽然更新了数据，但不会跳转到新页面，这是动态页面，使用Beautiful Soup可能无法实现\n",
    "# 所以使用selenium来实现动态爬取\n",
    "# 环境前提：\n",
    "# 1，安装selenium库\n",
    "# 2，安装对应浏览器的驱动程序。selenium官方说明: https://www.selenium.dev/documentation/getting_started/installing_browser_drivers/\n",
    "# 本例使用Chrome，chromedriver下载地址: https://chromedriver.storage.googleapis.com/index.html\n",
    "# 版本需要与本机Chrome的版本一致。如何查看本机Chrome版本: 在Chrome地址栏中输入Chrome://version，第一行\n",
    "# 将下载好的压缩包解压\n",
    "# 将解压得到的chromedriver.exe移动到chrome.exe所在的目录，一般来说（例如本例）该位置是C:\\Program Files (x86)\\Google\\Chrome\\Application\n",
    "# 最后，配置环境变量，右键此电脑（注意不是快捷方式）-属性-高级系统设置-环境变量-系统环境变量-Path-编辑-新建，添加好上条的目录位置\n",
    "# 参考教程: https://blog.csdn.net/orange_xiang/article/details/82924296"
   ]
  },
  {
   "cell_type": "code",
   "execution_count": null,
   "id": "4a50715b",
   "metadata": {},
   "outputs": [],
   "source": [
    "from selenium import webdriver\n",
    "from selenium.webdriver.common.keys import Keys\n",
    "from time import sleep\n",
    "\n",
    "import pandas as pd \n",
    "import numpy as np\n",
    "import time"
   ]
  },
  {
   "cell_type": "code",
   "execution_count": null,
   "id": "1ca915e2",
   "metadata": {},
   "outputs": [],
   "source": [
    "# driver是控制网页，模拟点击的入口，下文将经常使用\n",
    "driver = webdriver.Chrome()\n",
    "\n",
    "# 打开新网站时等待几秒让其完全呈现，但本例在同一网页上操作，可能没有作用\n",
    "driver.implicitly_wait(10)\n",
    "\n",
    "# 打开商务部价格网页\n",
    "url = \"https://cif.mofcom.gov.cn/cif/html/dataCenter/index.html?jgnfcprd\"\n",
    "driver.get(url)"
   ]
  },
  {
   "cell_type": "code",
   "execution_count": null,
   "id": "46156355",
   "metadata": {},
   "outputs": [],
   "source": [
    "# 通过该组件的id，来定位位于左侧边栏的“周度数据”，然后点击\n",
    "driver.find_element(by=\"id\", value=\"li_jgnfcpzd\").click()"
   ]
  },
  {
   "cell_type": "code",
   "execution_count": null,
   "id": "443bec41",
   "metadata": {},
   "outputs": [],
   "source": [
    "# 定位位于上方的日历，然后点击，为了调整时间范围\n",
    "driver.find_element(by=\"id\", value=\"nr5_start_date\").click()"
   ]
  },
  {
   "cell_type": "code",
   "execution_count": null,
   "id": "f1134799",
   "metadata": {},
   "outputs": [],
   "source": [
    "# 日历下是一个iframe组件，driver在外部不可见其内部，所以要将工作目录转移为该iframe\n",
    "driver.switch_to.frame(driver.find_element(by=\"xpath\", value=\"/html/body/div[6]/iframe\"))\n",
    "\n",
    "# 包括下文，更新网页后紧接着插入一次sleep()来等待，避免代码向下执行时网页尚未更新好\n",
    "# 如果在其他地方遇到类似问题，手动继续向下执行也容易解决\n",
    "sleep(1)"
   ]
  },
  {
   "cell_type": "code",
   "execution_count": null,
   "id": "a68c313d",
   "metadata": {},
   "outputs": [],
   "source": [
    "# 找到起始日期的输入栏\n",
    "start_year = driver.find_element(by='xpath',value='/html/body/div/div[1]/div[4]/input')\n",
    "# 直接退到1900年，这样最方便\n",
    "start_year.clear()\n",
    "\n",
    "# 提交\n",
    "start_year.send_keys(Keys.ENTER)"
   ]
  },
  {
   "cell_type": "code",
   "execution_count": null,
   "id": "9a8325f2",
   "metadata": {},
   "outputs": [],
   "source": [
    "# 记得退回主工作目录\n",
    "driver.switch_to.default_content()"
   ]
  },
  {
   "cell_type": "code",
   "execution_count": null,
   "id": "5876e400",
   "metadata": {},
   "outputs": [],
   "source": [
    "# 本模块对象区域是网页上方的商品按钮栏\n",
    "\n",
    "# 每种商品的按钮都有一个不规则的id，于是建立一个空字典来存储这些信息\n",
    "# 键是按钮的id，值是品种与类型的名称\n",
    "# 品种：粳米、籼米、大米...\n",
    "# 类型：粮油、肉类、禽蛋...\n",
    "commodity_info_dict = {}\n",
    "\n",
    "# 定位类型栏\n",
    "category = driver.find_element(by='id', value='week_category')\n",
    "# 收集类型栏下的每个分类\n",
    "categories = category.find_elements(by='class name',value='yqpzl')\n",
    "\n",
    "# 以下循环的结构由网页本身的结构所决定，注意移植时修改\n",
    "for cat in categories:\n",
    "    # 记录下类型的名称\n",
    "    category_name = cat.find_element(by='class name', value='pzys.yqfont6').text\n",
    "    # 收集该类型下的所有品种\n",
    "    commodities = cat.find_element(by='class name', value='ygepz').find_elements(by='tag name', value='div')\n",
    "    for com in commodities:\n",
    "        # 记录下品种的名称、按钮id\n",
    "        commodity_name = com.text\n",
    "        commodity_id = com.get_attribute('id')\n",
    "        # 将品种的按钮id、名称、类型添加到字典中\n",
    "        commodity_info_dict.update({commodity_id : [commodity_name, category_name]})"
   ]
  },
  {
   "cell_type": "code",
   "execution_count": null,
   "id": "75d77140",
   "metadata": {},
   "outputs": [],
   "source": [
    "# 本模块对象区域主要是网页下方的价格表格\n",
    "\n",
    "# 用作DataFrame的列表，独立存放每种商品\n",
    "df_list = []\n",
    "\n",
    "# 与上同理，以下代码的结构由网页本身的结构所决定，注意移植时修改\n",
    "\n",
    "# 根据上一模块整理好的信息来依种类遍历\n",
    "for key, value in commodity_info_dict.items():\n",
    "    com_id = key\n",
    "    com_name = value[0]\n",
    "    com_cat = value[1]\n",
    "    \n",
    "    # 点击该商品的按钮\n",
    "    driver.find_element(by=\"id\", value=com_id).click()\n",
    "    sleep(1)\n",
    "\n",
    "    # 记录下表头head，用作colmuns\n",
    "    table_head = driver.find_element(by='id', value='nr5_table_head').find_element(by='tag name', value='tr')\n",
    "    head = table_head.text.split(' ')\n",
    "\n",
    "    # 定位到表格主体\n",
    "    table = driver.find_element(by='id', value='nr5_table')\n",
    "    #收集表格的行\n",
    "    table_content = table.find_elements(by='tag name', value='tr')\n",
    "\n",
    "    # 用一个列表来存放原始数据\n",
    "    temp_list = []\n",
    "    # 遍历读行\n",
    "    for tr in table_content:\n",
    "        # 读行时会发现，每行的text是一整个字符串，有空格间隔，所以要split()一下\n",
    "        temp_list.append(tr.text.split(' '))  \n",
    "    # temp_list中每个元素也是列表，正好可以用来构造DataFrame，记得用之前记录好的表头作列名\n",
    "    temp_df = pd.DataFrame(temp_list, columns=head)\n",
    "    # 新增两列标明品种与类型\n",
    "    temp_df['品种'] = com_name\n",
    "    temp_df['类型'] = com_cat\n",
    "\n",
    "    # 将DataFrame加入大列表中\n",
    "    df_list.append(temp_df)"
   ]
  },
  {
   "cell_type": "code",
   "execution_count": null,
   "id": "f5a48cac",
   "metadata": {},
   "outputs": [],
   "source": [
    "# 拼接大列表中所有DataFrame\n",
    "data = pd.concat(df_list, ignore_index=True)\n",
    "data"
   ]
  },
  {
   "cell_type": "code",
   "execution_count": null,
   "id": "e5cd3129",
   "metadata": {},
   "outputs": [],
   "source": [
    "# 对列重新排序\n",
    "data = data.reindex(columns=['时间','品种','类型','价格（元/公斤）','环比变化（元/公斤）','价格（元/升）','环比变化（元/升）','环比（%）'])\n",
    "data"
   ]
  },
  {
   "cell_type": "code",
   "execution_count": null,
   "id": "0391083f",
   "metadata": {
    "scrolled": true
   },
   "outputs": [],
   "source": [
    "# 简单检查是否完整\n",
    "data['品种'].value_counts()"
   ]
  },
  {
   "cell_type": "code",
   "execution_count": null,
   "id": "4346bfbc",
   "metadata": {},
   "outputs": [],
   "source": [
    "# 牛奶的单位是升，这就是为什么之前要记录下每种商品的表头，不然单位会混淆\n",
    "data[data['品种'] == '牛奶']"
   ]
  },
  {
   "cell_type": "code",
   "execution_count": null,
   "id": "040f0a5b",
   "metadata": {},
   "outputs": [],
   "source": [
    "# 自动添加上日期标记，导出数据\n",
    "date = time.strftime(\"%Y-%m-%d\", time.localtime()) \n",
    "data.to_csv('weekly_price_'+date, index=False)"
   ]
  }
 ],
 "metadata": {
  "kernelspec": {
   "display_name": "Python 3",
   "language": "python",
   "name": "python3"
  },
  "language_info": {
   "codemirror_mode": {
    "name": "ipython",
    "version": 3
   },
   "file_extension": ".py",
   "mimetype": "text/x-python",
   "name": "python",
   "nbconvert_exporter": "python",
   "pygments_lexer": "ipython3",
   "version": "3.8.8"
  }
 },
 "nbformat": 4,
 "nbformat_minor": 5
}
